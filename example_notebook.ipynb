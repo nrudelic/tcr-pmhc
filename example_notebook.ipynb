{
 "cells": [
  {
   "cell_type": "code",
   "execution_count": 13,
   "metadata": {},
   "outputs": [],
   "source": [
    "#!/usr/bin/env python\n",
    "# coding: utf-8\n",
    "# Imports\n",
    "import pandas as pd\n",
    "import numpy as np\n",
    "import matplotlib.pyplot as plt\n",
    "from sklearn import metrics\n",
    "from sklearn.metrics import f1_score, accuracy_score\n",
    "from sklearn.metrics import roc_curve, confusion_matrix\n",
    "import torch\n",
    "import torch.nn as nn  # All neural network modules, nn.Linear, nn.Conv2d, BatchNorm, Loss functions\n",
    "import torch.optim as optim  # For all Optimization algorithms, SGD, Adam, etc.\n",
    "import torch.nn.functional as F  # All functions that don't have any parameters\n",
    "\n"
   ]
  },
  {
   "cell_type": "markdown",
   "metadata": {},
   "source": [
    "## Model"
   ]
  },
  {
   "cell_type": "code",
   "execution_count": 25,
   "metadata": {},
   "outputs": [
    {
     "name": "stdout",
     "output_type": "stream",
     "text": [
      "Training set shape: 4174 420 54\n",
      "val set shape: 1532 420 54\n",
      "Percent positive samples in train: 24.96406324868232\n",
      "Percent positive samples in val: 25.0\n",
      "\n",
      "NOTE:\n",
      "Setting batch-size to 64\n",
      "Using device (CPU/GPU): cpu\n"
     ]
    }
   ],
   "source": [
    "###############################\n",
    "###    Load data            ###\n",
    "###############################\n",
    "\n",
    "data_list = []\n",
    "target_list = []\n",
    "\n",
    "import glob\n",
    "for fp in glob.glob(\"data/train/*input.npz\"):\n",
    "    data = np.load(fp)[\"arr_0\"]\n",
    "    targets = np.load(fp.replace(\"input\", \"labels\"))[\"arr_0\"]\n",
    "    \n",
    "    data_list.append(data)\n",
    "    target_list.append(targets)\n",
    "#print(data_list)\n",
    "\n",
    "# Note:\n",
    "# Choose your own training and val set based on data_list and target_list\n",
    "# Here using the last partition as val set\n",
    "\n",
    "X_train = np.concatenate(data_list[ :-1])\n",
    "y_train = np.concatenate(target_list[:-1])\n",
    "nsamples, nx, ny = X_train.shape\n",
    "print(\"Training set shape:\", nsamples,nx,ny)\n",
    "\n",
    "X_val = np.concatenate(data_list[-1: ])\n",
    "y_val = np.concatenate(target_list[-1: ])\n",
    "nsamples, nx, ny = X_val.shape\n",
    "print(\"val set shape:\", nsamples,nx,ny)\n",
    "\n",
    "p_neg = len(y_train[y_train == 1])/len(y_train)*100\n",
    "print(\"Percent positive samples in train:\", p_neg)\n",
    "\n",
    "p_pos = len(y_val[y_val == 1])/len(y_val)*100\n",
    "print(\"Percent positive samples in val:\", p_pos)\n",
    "\n",
    "# make the data set into one dataset that can go into dataloader\n",
    "train_ds = []\n",
    "for i in range(len(X_train)):\n",
    "    train_ds.append([np.transpose(X_train[i]), y_train[i]])\n",
    "\n",
    "val_ds = []\n",
    "for i in range(len(X_val)):\n",
    "    val_ds.append([np.transpose(X_val[i]), y_val[i]])\n",
    "\n",
    "bat_size = 64\n",
    "print(\"\\nNOTE:\\nSetting batch-size to\", bat_size)\n",
    "train_ldr = torch.utils.data.DataLoader(train_ds,batch_size=bat_size, shuffle=True)\n",
    "val_ldr = torch.utils.data.DataLoader(val_ds,batch_size=bat_size, shuffle=True)\n",
    "\n",
    "\n",
    "# Set device\n",
    "device = torch.device(\"cuda\" if torch.cuda.is_available() else \"cpu\")\n",
    "print(\"Using device (CPU/GPU):\", device)\n",
    "#device = torch.device(\"cpu\")"
   ]
  },
  {
   "cell_type": "code",
   "execution_count": null,
   "outputs": [],
   "source": [],
   "metadata": {
    "collapsed": false,
    "pycharm": {
     "name": "#%%\n"
    }
   }
  },
  {
   "cell_type": "code",
   "execution_count": 37,
   "metadata": {},
   "outputs": [
    {
     "name": "stdout",
     "output_type": "stream",
     "text": [
      "Initializing network\n"
     ]
    }
   ],
   "source": [
    "\n",
    "###############################\n",
    "###    Define network       ###\n",
    "###############################\n",
    "\n",
    "print(\"Initializing network\")\n",
    "\n",
    "# Hyperparameters\n",
    "input_size = 420\n",
    "num_classes = 1\n",
    "learning_rate = 0.01\n",
    "\n",
    "class Net(nn.Module):\n",
    "    def __init__(self,  num_classes):\n",
    "        super(Net, self).__init__()   \n",
    "        self.bn0 = nn.BatchNorm1d(54)\n",
    "        self.conv1 = nn.Conv1d(in_channels=54, out_channels=100, kernel_size=3, stride=2, padding=1)\n",
    "        torch.nn.init.trunc_normal_(self.conv1.weight)\n",
    "        self.pool = nn.MaxPool1d(kernel_size=2, stride=2)\n",
    "        self.conv1_bn = nn.BatchNorm1d(100)\n",
    "        \n",
    "        self.conv2 = nn.Conv1d(in_channels=100, out_channels=100, kernel_size=3, stride=2, padding=1)\n",
    "        torch.nn.init.xavier_normal_(self.conv2.weight)\n",
    "        self.conv2_bn = nn.BatchNorm1d(100)\n",
    "        \n",
    "        self.fc1 = nn.Linear(2600, num_classes)\n",
    "        torch.nn.init.kaiming_normal_(self.fc1.weight)\n",
    "        \n",
    "    def forward(self, x):   \n",
    "        x = self.bn0(x)\n",
    "        x = self.pool(F.leaky_relu(self.conv1(x)))\n",
    "        x = self.conv1_bn(x)\n",
    "        \n",
    "        x = self.pool(F.leaky_relu(self.conv2(x)))\n",
    "        x = self.conv2_bn(x)\n",
    "        \n",
    "        x = x.view(x.size(0), -1)\n",
    "        x = torch.sigmoid(self.fc1(x))\n",
    "        \n",
    "        return x\n",
    "    \n",
    "# Initialize network\n",
    "net = Net(num_classes=num_classes).to(device)\n",
    "\n",
    "# Loss and optimizer\n",
    "criterion = nn.BCELoss()\n",
    "optimizer = optim.Adam(net.parameters(), lr=learning_rate)\n"
   ]
  },
  {
   "cell_type": "code",
   "execution_count": 38,
   "metadata": {
    "scrolled": false
   },
   "outputs": [
    {
     "name": "stdout",
     "output_type": "stream",
     "text": [
      "Training\n",
      "\n",
      "Epoch: 1\n",
      "Training loss: 0.013788885436952114 Validation loss: 0.00813869759440422\n",
      "MCC Train: 0.2709018274000176 MCC val: 0.39113545604352495\n",
      "\n",
      "Epoch: 2\n",
      "Training loss: 0.007742497604340315 Validation loss: 0.0073868450708687305\n",
      "MCC Train: 0.46501172967071797 MCC val: 0.4927249935293596\n",
      "\n",
      "Epoch: 3\n",
      "Training loss: 0.007487284950911999 Validation loss: 0.0073365080170333385\n",
      "MCC Train: 0.4611128671728777 MCC val: 0.5391912503130674\n",
      "\n",
      "Epoch: 4\n",
      "Training loss: 0.005591066088527441 Validation loss: 0.007285711821168661\n",
      "MCC Train: 0.6053983463963063 MCC val: 0.5565829778764796\n",
      "\n",
      "Epoch: 5\n",
      "Training loss: 0.004863017704337835 Validation loss: 0.00838278979063034\n",
      "MCC Train: 0.654373098701067 MCC val: 0.4659638506620496\n"
     ]
    }
   ],
   "source": [
    "###############################\n",
    "###         TRAIN           ###\n",
    "###############################\n",
    "\n",
    "print(\"Training\")\n",
    "\n",
    "num_epochs = 5\n",
    "\n",
    "train_acc, train_loss = [], []\n",
    "valid_acc, valid_loss = [], []\n",
    "losses = []\n",
    "val_losses = []\n",
    "\n",
    "for epoch in range(num_epochs):\n",
    "    cur_loss = 0\n",
    "    val_loss = 0\n",
    "    \n",
    "    net.train()\n",
    "    train_preds, train_targs = [], [] \n",
    "    for batch_idx, (data, target) in enumerate(train_ldr):\n",
    "        X_batch =  data.float().detach().requires_grad_(True)\n",
    "        target_batch = torch.tensor(np.array(target), dtype = torch.float).unsqueeze(1)\n",
    "        \n",
    "        optimizer.zero_grad()\n",
    "        output = net(X_batch)\n",
    "        \n",
    "        batch_loss = criterion(output, target_batch)\n",
    "        batch_loss.backward()\n",
    "        optimizer.step()\n",
    "        \n",
    "        preds = np.round(output.detach().cpu())\n",
    "        train_targs += list(np.array(target_batch.cpu()))\n",
    "        train_preds += list(preds.data.numpy().flatten())\n",
    "        cur_loss += batch_loss.detach()\n",
    "\n",
    "    losses.append(cur_loss / len(train_ldr.dataset))        \n",
    "    \n",
    "    net.eval()\n",
    "    ### Evaluate validation\n",
    "    val_preds, val_targs = [], []\n",
    "    with torch.no_grad():\n",
    "        for batch_idx, (data, target) in enumerate(val_ldr): ###\n",
    "            x_batch_val = data.float().detach()\n",
    "            y_batch_val = target.float().detach().unsqueeze(1)\n",
    "            \n",
    "            output = net(x_batch_val)\n",
    "            \n",
    "            val_batch_loss = criterion(output, y_batch_val)\n",
    "            \n",
    "            preds = np.round(output.detach())\n",
    "            val_preds += list(preds.data.numpy().flatten()) \n",
    "            val_targs += list(np.array(y_batch_val))\n",
    "            val_loss += val_batch_loss.detach()\n",
    "            \n",
    "        val_losses.append(val_loss / len(val_ldr.dataset))\n",
    "        print(\"\\nEpoch:\", epoch+1)\n",
    "        \n",
    "        train_acc_cur = accuracy_score(train_targs, train_preds)  \n",
    "        valid_acc_cur = accuracy_score(val_targs, val_preds) \n",
    "\n",
    "        train_acc.append(train_acc_cur)\n",
    "        valid_acc.append(valid_acc_cur)\n",
    "        \n",
    "        from sklearn.metrics import matthews_corrcoef\n",
    "        print(\"Training loss:\", losses[-1].item(), \"Validation loss:\", val_losses[-1].item(), end = \"\\n\")\n",
    "        print(\"MCC Train:\", matthews_corrcoef(train_targs, train_preds), \"MCC val:\", matthews_corrcoef(val_targs, val_preds))"
   ]
  },
  {
   "cell_type": "markdown",
   "metadata": {},
   "source": [
    "## MH"
   ]
  },
  {
   "cell_type": "code",
   "execution_count": 39,
   "metadata": {
    "scrolled": false
   },
   "outputs": [
    {
     "name": "stdout",
     "output_type": "stream",
     "text": [
      "MCC Train: 0.654373098701067\n",
      "MCC Test: 0.4659638506620496\n",
      "Confusion matrix train:\n",
      "[[2961  171]\n",
      " [ 346  696]]\n",
      "Confusion matrix test:\n",
      "[[1112   37]\n",
      " [ 237  146]]\n"
     ]
    },
    {
     "data": {
      "text/plain": "<Figure size 432x288 with 1 Axes>",
      "image/png": "[encoded data removed]"
     },
     "metadata": {
      "needs_background": "light"
     },
     "output_type": "display_data"
    },
    {
     "data": {
      "text/plain": "<Figure size 432x288 with 1 Axes>",
      "image/png": "[encoded data removed]"
     },
     "metadata": {
      "needs_background": "light"
     },
     "output_type": "display_data"
    }
   ],
   "source": [
    "###############################\n",
    "###        PERFORMANCE      ###\n",
    "###############################\n",
    "\n",
    "epoch = np.arange(1,len(train_acc)+1)\n",
    "plt.figure()\n",
    "plt.plot(epoch, losses, 'r', epoch, val_losses, 'b')\n",
    "plt.legend(['Train Loss','Validation Loss'])\n",
    "plt.xlabel('Epoch^'), plt.ylabel('Loss')\n",
    "\n",
    "epoch = np.arange(1,len(train_acc)+1)\n",
    "plt.figure()\n",
    "plt.plot(epoch, train_acc, 'r', epoch, valid_acc, 'b')\n",
    "plt.legend(['Train Accuracy','Validation Accuracy'])\n",
    "plt.xlabel('Epoch'), plt.ylabel('Acc')\n",
    "\n",
    "#print(\"Train accuracy:\", train_acc, sep = \"\\n\")\n",
    "#print(\"Validation accuracy:\", valid_acc, sep = \"\\n\")\n",
    "\n",
    "from sklearn.metrics import matthews_corrcoef\n",
    "print(\"MCC Train:\", matthews_corrcoef(train_targs, train_preds))\n",
    "print(\"MCC Test:\", matthews_corrcoef(val_targs, val_preds))\n",
    "\n",
    "print(\"Confusion matrix train:\", confusion_matrix(train_targs, train_preds), sep = \"\\n\")\n",
    "print(\"Confusion matrix test:\", confusion_matrix(val_targs, val_preds), sep = \"\\n\")"
   ]
  },
  {
   "cell_type": "code",
   "execution_count": 40,
   "metadata": {},
   "outputs": [],
   "source": [
    "def plot_roc(targets, predictions):\n",
    "    # ROC\n",
    "    fpr, tpr, threshold = metrics.roc_curve(targets, predictions)\n",
    "    roc_auc = metrics.auc(fpr, tpr)\n",
    "\n",
    "    # plot ROC\n",
    "    plt.figure()\n",
    "    plt.title('Receiver Operating Characteristic')\n",
    "    plt.plot(fpr, tpr, 'b', label = 'AUC = %0.2f' % roc_auc)\n",
    "    plt.legend(loc = 'lower right')\n",
    "    plt.plot([0, 1], [0, 1],'r--')\n",
    "    plt.xlim([0, 1])\n",
    "    plt.ylim([0, 1])\n",
    "    plt.ylabel('True Positive Rate')\n",
    "    plt.xlabel('False Positive Rate')\n",
    "    #plt.show()"
   ]
  },
  {
   "cell_type": "code",
   "execution_count": 41,
   "metadata": {},
   "outputs": [
    {
     "data": {
      "text/plain": "Text(0.5, 1.0, 'Validation AUC')"
     },
     "execution_count": 41,
     "metadata": {},
     "output_type": "execute_result"
    },
    {
     "data": {
      "text/plain": "<Figure size 432x288 with 1 Axes>",
      "image/png": "[encoded data removed]"
     },
     "metadata": {
      "needs_background": "light"
     },
     "output_type": "display_data"
    },
    {
     "data": {
      "text/plain": "<Figure size 432x288 with 1 Axes>",
      "image/png": "[encoded data removed]"
     },
     "metadata": {
      "needs_background": "light"
     },
     "output_type": "display_data"
    }
   ],
   "source": [
    "plot_roc(train_targs, train_preds)\n",
    "plt.title(\"Training AUC\")\n",
    "plot_roc(val_targs, val_preds)\n",
    "plt.title(\"Validation AUC\")"
   ]
  },
  {
   "cell_type": "markdown",
   "metadata": {},
   "source": [
    "# Helpful scripts"
   ]
  },
  {
   "cell_type": "markdown",
   "metadata": {},
   "source": [
    "# Show dataset as copied dataframes with named features\n",
    "The dataset is a 3D numpy array, of dimensions n_complexes x features x positions. This makes viewing the features for individual complexes or samples challenging. Below is a function which copies the entire dataset, and converts it into a list of DataFrames with named indices and columns, in order to make understanding the data easier.\n",
    "\n",
    "NB: This list of dataframes are only copies, and will not be passable into the neural network architecture."
   ]
  },
  {
   "cell_type": "code",
   "execution_count": 20,
   "metadata": {},
   "outputs": [
    {
     "data": {
      "text/plain": "       A    C    D    E    F    G    H    I    K    L  ...  global_tcr_fa_rep  \\\n0    0.0  0.0  0.0  0.0  0.0  1.0  0.0  0.0  0.0  0.0  ...            681.926   \n1    0.0  0.0  0.0  0.0  0.0  0.0  0.0  0.0  0.0  0.0  ...            681.926   \n2    0.0  0.0  0.0  0.0  0.0  0.0  1.0  0.0  0.0  0.0  ...            681.926   \n3    0.0  0.0  0.0  0.0  0.0  0.0  0.0  0.0  0.0  0.0  ...            681.926   \n4    0.0  0.0  0.0  0.0  0.0  0.0  0.0  0.0  0.0  0.0  ...            681.926   \n..   ...  ...  ...  ...  ...  ...  ...  ...  ...  ...  ...                ...   \n415  0.0  0.0  0.0  0.0  0.0  0.0  0.0  0.0  0.0  0.0  ...              0.000   \n416  0.0  0.0  0.0  0.0  0.0  0.0  0.0  0.0  0.0  0.0  ...              0.000   \n417  0.0  0.0  0.0  0.0  0.0  0.0  0.0  0.0  0.0  0.0  ...              0.000   \n418  0.0  0.0  0.0  0.0  0.0  0.0  0.0  0.0  0.0  0.0  ...              0.000   \n419  0.0  0.0  0.0  0.0  0.0  0.0  0.0  0.0  0.0  0.0  ...              0.000   \n\n      global_tcr_fa_sol   global_tcr_p_aa_pp  global_pmhc_total_score  \\\n0               -40.471                2.401                 -555.661   \n1               -40.471                2.401                 -555.661   \n2               -40.471                2.401                 -555.661   \n3               -40.471                2.401                 -555.661   \n4               -40.471                2.401                 -555.661   \n..                  ...                  ...                      ...   \n415               0.000                0.000                    0.000   \n416               0.000                0.000                    0.000   \n417               0.000                0.000                    0.000   \n418               0.000                0.000                    0.000   \n419               0.000                0.000                    0.000   \n\n      global_pmhc_fa_atr   global_pmhc_fa_dun   global_pmhc_fa_elec  \\\n0                246.945             -359.301                  2.25   \n1                246.945             -359.301                  2.25   \n2                246.945             -359.301                  2.25   \n3                246.945             -359.301                  2.25   \n4                246.945             -359.301                  2.25   \n..                   ...                  ...                   ...   \n415                0.000                0.000                  0.00   \n416                0.000                0.000                  0.00   \n417                0.000                0.000                  0.00   \n418                0.000                0.000                  0.00   \n419                0.000                0.000                  0.00   \n\n     global_pmhc_fa_rep   global_pmhc_fa_sol   global_pmhc_p_aa_pp  \n0               733.179              -39.727                 0.481  \n1               733.179              -39.727                 0.481  \n2               733.179              -39.727                 0.481  \n3               733.179              -39.727                 0.481  \n4               733.179              -39.727                 0.481  \n..                  ...                  ...                   ...  \n415               0.000                0.000                 0.000  \n416               0.000                0.000                 0.000  \n417               0.000                0.000                 0.000  \n418               0.000                0.000                 0.000  \n419               0.000                0.000                 0.000  \n\n[420 rows x 54 columns]",
      "text/html": "<div>\n<style scoped>\n    .dataframe tbody tr th:only-of-type {\n        vertical-align: middle;\n    }\n\n    .dataframe tbody tr th {\n        vertical-align: top;\n    }\n\n    .dataframe thead th {\n        text-align: right;\n    }\n</style>\n<table border=\"1\" class=\"dataframe\">\n  <thead>\n    <tr style=\"text-align: right;\">\n      <th></th>\n      <th>A</th>\n      <th>C</th>\n      <th>D</th>\n      <th>E</th>\n      <th>F</th>\n      <th>G</th>\n      <th>H</th>\n      <th>I</th>\n      <th>K</th>\n      <th>L</th>\n      <th>...</th>\n      <th>global_tcr_fa_rep</th>\n      <th>global_tcr_fa_sol</th>\n      <th>global_tcr_p_aa_pp</th>\n      <th>global_pmhc_total_score</th>\n      <th>global_pmhc_fa_atr</th>\n      <th>global_pmhc_fa_dun</th>\n      <th>global_pmhc_fa_elec</th>\n      <th>global_pmhc_fa_rep</th>\n      <th>global_pmhc_fa_sol</th>\n      <th>global_pmhc_p_aa_pp</th>\n    </tr>\n  </thead>\n  <tbody>\n    <tr>\n      <th>0</th>\n      <td>0.0</td>\n      <td>0.0</td>\n      <td>0.0</td>\n      <td>0.0</td>\n      <td>0.0</td>\n      <td>1.0</td>\n      <td>0.0</td>\n      <td>0.0</td>\n      <td>0.0</td>\n      <td>0.0</td>\n      <td>...</td>\n      <td>681.926</td>\n      <td>-40.471</td>\n      <td>2.401</td>\n      <td>-555.661</td>\n      <td>246.945</td>\n      <td>-359.301</td>\n      <td>2.25</td>\n      <td>733.179</td>\n      <td>-39.727</td>\n      <td>0.481</td>\n    </tr>\n    <tr>\n      <th>1</th>\n      <td>0.0</td>\n      <td>0.0</td>\n      <td>0.0</td>\n      <td>0.0</td>\n      <td>0.0</td>\n      <td>0.0</td>\n      <td>0.0</td>\n      <td>0.0</td>\n      <td>0.0</td>\n      <td>0.0</td>\n      <td>...</td>\n      <td>681.926</td>\n      <td>-40.471</td>\n      <td>2.401</td>\n      <td>-555.661</td>\n      <td>246.945</td>\n      <td>-359.301</td>\n      <td>2.25</td>\n      <td>733.179</td>\n      <td>-39.727</td>\n      <td>0.481</td>\n    </tr>\n    <tr>\n      <th>2</th>\n      <td>0.0</td>\n      <td>0.0</td>\n      <td>0.0</td>\n      <td>0.0</td>\n      <td>0.0</td>\n      <td>0.0</td>\n      <td>1.0</td>\n      <td>0.0</td>\n      <td>0.0</td>\n      <td>0.0</td>\n      <td>...</td>\n      <td>681.926</td>\n      <td>-40.471</td>\n      <td>2.401</td>\n      <td>-555.661</td>\n      <td>246.945</td>\n      <td>-359.301</td>\n      <td>2.25</td>\n      <td>733.179</td>\n      <td>-39.727</td>\n      <td>0.481</td>\n    </tr>\n    <tr>\n      <th>3</th>\n      <td>0.0</td>\n      <td>0.0</td>\n      <td>0.0</td>\n      <td>0.0</td>\n      <td>0.0</td>\n      <td>0.0</td>\n      <td>0.0</td>\n      <td>0.0</td>\n      <td>0.0</td>\n      <td>0.0</td>\n      <td>...</td>\n      <td>681.926</td>\n      <td>-40.471</td>\n      <td>2.401</td>\n      <td>-555.661</td>\n      <td>246.945</td>\n      <td>-359.301</td>\n      <td>2.25</td>\n      <td>733.179</td>\n      <td>-39.727</td>\n      <td>0.481</td>\n    </tr>\n    <tr>\n      <th>4</th>\n      <td>0.0</td>\n      <td>0.0</td>\n      <td>0.0</td>\n      <td>0.0</td>\n      <td>0.0</td>\n      <td>0.0</td>\n      <td>0.0</td>\n      <td>0.0</td>\n      <td>0.0</td>\n      <td>0.0</td>\n      <td>...</td>\n      <td>681.926</td>\n      <td>-40.471</td>\n      <td>2.401</td>\n      <td>-555.661</td>\n      <td>246.945</td>\n      <td>-359.301</td>\n      <td>2.25</td>\n      <td>733.179</td>\n      <td>-39.727</td>\n      <td>0.481</td>\n    </tr>\n    <tr>\n      <th>...</th>\n      <td>...</td>\n      <td>...</td>\n      <td>...</td>\n      <td>...</td>\n      <td>...</td>\n      <td>...</td>\n      <td>...</td>\n      <td>...</td>\n      <td>...</td>\n      <td>...</td>\n      <td>...</td>\n      <td>...</td>\n      <td>...</td>\n      <td>...</td>\n      <td>...</td>\n      <td>...</td>\n      <td>...</td>\n      <td>...</td>\n      <td>...</td>\n      <td>...</td>\n      <td>...</td>\n    </tr>\n    <tr>\n      <th>415</th>\n      <td>0.0</td>\n      <td>0.0</td>\n      <td>0.0</td>\n      <td>0.0</td>\n      <td>0.0</td>\n      <td>0.0</td>\n      <td>0.0</td>\n      <td>0.0</td>\n      <td>0.0</td>\n      <td>0.0</td>\n      <td>...</td>\n      <td>0.000</td>\n      <td>0.000</td>\n      <td>0.000</td>\n      <td>0.000</td>\n      <td>0.000</td>\n      <td>0.000</td>\n      <td>0.00</td>\n      <td>0.000</td>\n      <td>0.000</td>\n      <td>0.000</td>\n    </tr>\n    <tr>\n      <th>416</th>\n      <td>0.0</td>\n      <td>0.0</td>\n      <td>0.0</td>\n      <td>0.0</td>\n      <td>0.0</td>\n      <td>0.0</td>\n      <td>0.0</td>\n      <td>0.0</td>\n      <td>0.0</td>\n      <td>0.0</td>\n      <td>...</td>\n      <td>0.000</td>\n      <td>0.000</td>\n      <td>0.000</td>\n      <td>0.000</td>\n      <td>0.000</td>\n      <td>0.000</td>\n      <td>0.00</td>\n      <td>0.000</td>\n      <td>0.000</td>\n      <td>0.000</td>\n    </tr>\n    <tr>\n      <th>417</th>\n      <td>0.0</td>\n      <td>0.0</td>\n      <td>0.0</td>\n      <td>0.0</td>\n      <td>0.0</td>\n      <td>0.0</td>\n      <td>0.0</td>\n      <td>0.0</td>\n      <td>0.0</td>\n      <td>0.0</td>\n      <td>...</td>\n      <td>0.000</td>\n      <td>0.000</td>\n      <td>0.000</td>\n      <td>0.000</td>\n      <td>0.000</td>\n      <td>0.000</td>\n      <td>0.00</td>\n      <td>0.000</td>\n      <td>0.000</td>\n      <td>0.000</td>\n    </tr>\n    <tr>\n      <th>418</th>\n      <td>0.0</td>\n      <td>0.0</td>\n      <td>0.0</td>\n      <td>0.0</td>\n      <td>0.0</td>\n      <td>0.0</td>\n      <td>0.0</td>\n      <td>0.0</td>\n      <td>0.0</td>\n      <td>0.0</td>\n      <td>...</td>\n      <td>0.000</td>\n      <td>0.000</td>\n      <td>0.000</td>\n      <td>0.000</td>\n      <td>0.000</td>\n      <td>0.000</td>\n      <td>0.00</td>\n      <td>0.000</td>\n      <td>0.000</td>\n      <td>0.000</td>\n    </tr>\n    <tr>\n      <th>419</th>\n      <td>0.0</td>\n      <td>0.0</td>\n      <td>0.0</td>\n      <td>0.0</td>\n      <td>0.0</td>\n      <td>0.0</td>\n      <td>0.0</td>\n      <td>0.0</td>\n      <td>0.0</td>\n      <td>0.0</td>\n      <td>...</td>\n      <td>0.000</td>\n      <td>0.000</td>\n      <td>0.000</td>\n      <td>0.000</td>\n      <td>0.000</td>\n      <td>0.000</td>\n      <td>0.00</td>\n      <td>0.000</td>\n      <td>0.000</td>\n      <td>0.000</td>\n    </tr>\n  </tbody>\n</table>\n<p>420 rows × 54 columns</p>\n</div>"
     },
     "execution_count": 20,
     "metadata": {},
     "output_type": "execute_result"
    }
   ],
   "source": [
    "pd.read_csv(\"data/example.csv\")"
   ]
  },
  {
   "cell_type": "code",
   "execution_count": 21,
   "metadata": {},
   "outputs": [
    {
     "name": "stdout",
     "output_type": "stream",
     "text": [
      "Showing first complex as dataframe. Columns are positions and indices are calculated features\n"
     ]
    },
    {
     "data": {
      "text/plain": "       A    C    D    E    F    G    H    I    K    L  ...  global_tcr_fa_rep  \\\n0    0.0  0.0  0.0  0.0  0.0  1.0  0.0  0.0  0.0  0.0  ...            680.346   \n1    0.0  0.0  0.0  0.0  0.0  0.0  0.0  0.0  0.0  0.0  ...            680.346   \n2    0.0  0.0  0.0  0.0  0.0  0.0  1.0  0.0  0.0  0.0  ...            680.346   \n3    0.0  0.0  0.0  0.0  0.0  0.0  0.0  0.0  0.0  0.0  ...            680.346   \n4    0.0  0.0  0.0  0.0  0.0  0.0  0.0  0.0  0.0  0.0  ...            680.346   \n..   ...  ...  ...  ...  ...  ...  ...  ...  ...  ...  ...                ...   \n415  0.0  0.0  0.0  0.0  0.0  0.0  0.0  0.0  0.0  0.0  ...              0.000   \n416  0.0  0.0  0.0  0.0  0.0  0.0  0.0  0.0  0.0  0.0  ...              0.000   \n417  0.0  0.0  0.0  0.0  0.0  0.0  0.0  0.0  0.0  0.0  ...              0.000   \n418  0.0  0.0  0.0  0.0  0.0  0.0  0.0  0.0  0.0  0.0  ...              0.000   \n419  0.0  0.0  0.0  0.0  0.0  0.0  0.0  0.0  0.0  0.0  ...              0.000   \n\n      global_tcr_fa_sol   global_tcr_p_aa_pp  global_pmhc_total_score  \\\n0               -49.781                2.017                 -564.837   \n1               -49.781                2.017                 -564.837   \n2               -49.781                2.017                 -564.837   \n3               -49.781                2.017                 -564.837   \n4               -49.781                2.017                 -564.837   \n..                  ...                  ...                      ...   \n415               0.000                0.000                    0.000   \n416               0.000                0.000                    0.000   \n417               0.000                0.000                    0.000   \n418               0.000                0.000                    0.000   \n419               0.000                0.000                    0.000   \n\n      global_pmhc_fa_atr   global_pmhc_fa_dun   global_pmhc_fa_elec  \\\n0                  235.9              -369.03                 2.223   \n1                  235.9              -369.03                 2.223   \n2                  235.9              -369.03                 2.223   \n3                  235.9              -369.03                 2.223   \n4                  235.9              -369.03                 2.223   \n..                   ...                  ...                   ...   \n415                  0.0                 0.00                 0.000   \n416                  0.0                 0.00                 0.000   \n417                  0.0                 0.00                 0.000   \n418                  0.0                 0.00                 0.000   \n419                  0.0                 0.00                 0.000   \n\n     global_pmhc_fa_rep   global_pmhc_fa_sol   global_pmhc_p_aa_pp  \n0               730.223              -36.813                 0.562  \n1               730.223              -36.813                 0.562  \n2               730.223              -36.813                 0.562  \n3               730.223              -36.813                 0.562  \n4               730.223              -36.813                 0.562  \n..                  ...                  ...                   ...  \n415               0.000                0.000                 0.000  \n416               0.000                0.000                 0.000  \n417               0.000                0.000                 0.000  \n418               0.000                0.000                 0.000  \n419               0.000                0.000                 0.000  \n\n[420 rows x 54 columns]",
      "text/html": "<div>\n<style scoped>\n    .dataframe tbody tr th:only-of-type {\n        vertical-align: middle;\n    }\n\n    .dataframe tbody tr th {\n        vertical-align: top;\n    }\n\n    .dataframe thead th {\n        text-align: right;\n    }\n</style>\n<table border=\"1\" class=\"dataframe\">\n  <thead>\n    <tr style=\"text-align: right;\">\n      <th></th>\n      <th>A</th>\n      <th>C</th>\n      <th>D</th>\n      <th>E</th>\n      <th>F</th>\n      <th>G</th>\n      <th>H</th>\n      <th>I</th>\n      <th>K</th>\n      <th>L</th>\n      <th>...</th>\n      <th>global_tcr_fa_rep</th>\n      <th>global_tcr_fa_sol</th>\n      <th>global_tcr_p_aa_pp</th>\n      <th>global_pmhc_total_score</th>\n      <th>global_pmhc_fa_atr</th>\n      <th>global_pmhc_fa_dun</th>\n      <th>global_pmhc_fa_elec</th>\n      <th>global_pmhc_fa_rep</th>\n      <th>global_pmhc_fa_sol</th>\n      <th>global_pmhc_p_aa_pp</th>\n    </tr>\n  </thead>\n  <tbody>\n    <tr>\n      <th>0</th>\n      <td>0.0</td>\n      <td>0.0</td>\n      <td>0.0</td>\n      <td>0.0</td>\n      <td>0.0</td>\n      <td>1.0</td>\n      <td>0.0</td>\n      <td>0.0</td>\n      <td>0.0</td>\n      <td>0.0</td>\n      <td>...</td>\n      <td>680.346</td>\n      <td>-49.781</td>\n      <td>2.017</td>\n      <td>-564.837</td>\n      <td>235.9</td>\n      <td>-369.03</td>\n      <td>2.223</td>\n      <td>730.223</td>\n      <td>-36.813</td>\n      <td>0.562</td>\n    </tr>\n    <tr>\n      <th>1</th>\n      <td>0.0</td>\n      <td>0.0</td>\n      <td>0.0</td>\n      <td>0.0</td>\n      <td>0.0</td>\n      <td>0.0</td>\n      <td>0.0</td>\n      <td>0.0</td>\n      <td>0.0</td>\n      <td>0.0</td>\n      <td>...</td>\n      <td>680.346</td>\n      <td>-49.781</td>\n      <td>2.017</td>\n      <td>-564.837</td>\n      <td>235.9</td>\n      <td>-369.03</td>\n      <td>2.223</td>\n      <td>730.223</td>\n      <td>-36.813</td>\n      <td>0.562</td>\n    </tr>\n    <tr>\n      <th>2</th>\n      <td>0.0</td>\n      <td>0.0</td>\n      <td>0.0</td>\n      <td>0.0</td>\n      <td>0.0</td>\n      <td>0.0</td>\n      <td>1.0</td>\n      <td>0.0</td>\n      <td>0.0</td>\n      <td>0.0</td>\n      <td>...</td>\n      <td>680.346</td>\n      <td>-49.781</td>\n      <td>2.017</td>\n      <td>-564.837</td>\n      <td>235.9</td>\n      <td>-369.03</td>\n      <td>2.223</td>\n      <td>730.223</td>\n      <td>-36.813</td>\n      <td>0.562</td>\n    </tr>\n    <tr>\n      <th>3</th>\n      <td>0.0</td>\n      <td>0.0</td>\n      <td>0.0</td>\n      <td>0.0</td>\n      <td>0.0</td>\n      <td>0.0</td>\n      <td>0.0</td>\n      <td>0.0</td>\n      <td>0.0</td>\n      <td>0.0</td>\n      <td>...</td>\n      <td>680.346</td>\n      <td>-49.781</td>\n      <td>2.017</td>\n      <td>-564.837</td>\n      <td>235.9</td>\n      <td>-369.03</td>\n      <td>2.223</td>\n      <td>730.223</td>\n      <td>-36.813</td>\n      <td>0.562</td>\n    </tr>\n    <tr>\n      <th>4</th>\n      <td>0.0</td>\n      <td>0.0</td>\n      <td>0.0</td>\n      <td>0.0</td>\n      <td>0.0</td>\n      <td>0.0</td>\n      <td>0.0</td>\n      <td>0.0</td>\n      <td>0.0</td>\n      <td>0.0</td>\n      <td>...</td>\n      <td>680.346</td>\n      <td>-49.781</td>\n      <td>2.017</td>\n      <td>-564.837</td>\n      <td>235.9</td>\n      <td>-369.03</td>\n      <td>2.223</td>\n      <td>730.223</td>\n      <td>-36.813</td>\n      <td>0.562</td>\n    </tr>\n    <tr>\n      <th>...</th>\n      <td>...</td>\n      <td>...</td>\n      <td>...</td>\n      <td>...</td>\n      <td>...</td>\n      <td>...</td>\n      <td>...</td>\n      <td>...</td>\n      <td>...</td>\n      <td>...</td>\n      <td>...</td>\n      <td>...</td>\n      <td>...</td>\n      <td>...</td>\n      <td>...</td>\n      <td>...</td>\n      <td>...</td>\n      <td>...</td>\n      <td>...</td>\n      <td>...</td>\n      <td>...</td>\n    </tr>\n    <tr>\n      <th>415</th>\n      <td>0.0</td>\n      <td>0.0</td>\n      <td>0.0</td>\n      <td>0.0</td>\n      <td>0.0</td>\n      <td>0.0</td>\n      <td>0.0</td>\n      <td>0.0</td>\n      <td>0.0</td>\n      <td>0.0</td>\n      <td>...</td>\n      <td>0.000</td>\n      <td>0.000</td>\n      <td>0.000</td>\n      <td>0.000</td>\n      <td>0.0</td>\n      <td>0.00</td>\n      <td>0.000</td>\n      <td>0.000</td>\n      <td>0.000</td>\n      <td>0.000</td>\n    </tr>\n    <tr>\n      <th>416</th>\n      <td>0.0</td>\n      <td>0.0</td>\n      <td>0.0</td>\n      <td>0.0</td>\n      <td>0.0</td>\n      <td>0.0</td>\n      <td>0.0</td>\n      <td>0.0</td>\n      <td>0.0</td>\n      <td>0.0</td>\n      <td>...</td>\n      <td>0.000</td>\n      <td>0.000</td>\n      <td>0.000</td>\n      <td>0.000</td>\n      <td>0.0</td>\n      <td>0.00</td>\n      <td>0.000</td>\n      <td>0.000</td>\n      <td>0.000</td>\n      <td>0.000</td>\n    </tr>\n    <tr>\n      <th>417</th>\n      <td>0.0</td>\n      <td>0.0</td>\n      <td>0.0</td>\n      <td>0.0</td>\n      <td>0.0</td>\n      <td>0.0</td>\n      <td>0.0</td>\n      <td>0.0</td>\n      <td>0.0</td>\n      <td>0.0</td>\n      <td>...</td>\n      <td>0.000</td>\n      <td>0.000</td>\n      <td>0.000</td>\n      <td>0.000</td>\n      <td>0.0</td>\n      <td>0.00</td>\n      <td>0.000</td>\n      <td>0.000</td>\n      <td>0.000</td>\n      <td>0.000</td>\n    </tr>\n    <tr>\n      <th>418</th>\n      <td>0.0</td>\n      <td>0.0</td>\n      <td>0.0</td>\n      <td>0.0</td>\n      <td>0.0</td>\n      <td>0.0</td>\n      <td>0.0</td>\n      <td>0.0</td>\n      <td>0.0</td>\n      <td>0.0</td>\n      <td>...</td>\n      <td>0.000</td>\n      <td>0.000</td>\n      <td>0.000</td>\n      <td>0.000</td>\n      <td>0.0</td>\n      <td>0.00</td>\n      <td>0.000</td>\n      <td>0.000</td>\n      <td>0.000</td>\n      <td>0.000</td>\n    </tr>\n    <tr>\n      <th>419</th>\n      <td>0.0</td>\n      <td>0.0</td>\n      <td>0.0</td>\n      <td>0.0</td>\n      <td>0.0</td>\n      <td>0.0</td>\n      <td>0.0</td>\n      <td>0.0</td>\n      <td>0.0</td>\n      <td>0.0</td>\n      <td>...</td>\n      <td>0.000</td>\n      <td>0.000</td>\n      <td>0.000</td>\n      <td>0.000</td>\n      <td>0.0</td>\n      <td>0.00</td>\n      <td>0.000</td>\n      <td>0.000</td>\n      <td>0.000</td>\n      <td>0.000</td>\n    </tr>\n  </tbody>\n</table>\n<p>420 rows × 54 columns</p>\n</div>"
     },
     "execution_count": 21,
     "metadata": {},
     "output_type": "execute_result"
    }
   ],
   "source": [
    "def copy_as_dataframes(dataset_X):\n",
    "    \"\"\"\n",
    "    Returns list of DataFrames with named features from dataset_X,\n",
    "    using example CSV file\n",
    "    \"\"\"\n",
    "    df_raw = pd.read_csv(\"data/example.csv\")\n",
    "    return [pd.DataFrame(arr, columns = df_raw.columns) for arr in dataset_X]\n",
    "\n",
    "named_dataframes = copy_as_dataframes(X_train)\n",
    "print(\"Showing first complex as dataframe. Columns are positions and indices are calculated features\")\n",
    "named_dataframes[0]"
   ]
  },
  {
   "cell_type": "markdown",
   "metadata": {},
   "source": [
    "# View complex MHC, peptide and TCR alpha/beta sequences\n",
    "You may want to view the one-hot encoded sequences as sequences in single-letter amino-acid format. The below function will return the TCR, peptide and MHC sequences for the dataset as 3 lists."
   ]
  },
  {
   "cell_type": "code",
   "execution_count": 22,
   "metadata": {},
   "outputs": [],
   "source": [
    "def oneHot(residue):\n",
    "    \"\"\"\n",
    "    Converts string sequence to one-hot encoding\n",
    "    Example usage:\n",
    "    seq = \"GSHSMRY\"\n",
    "    oneHot(seq)\n",
    "    \"\"\"\n",
    "    \n",
    "    mapping = dict(zip(\"ACDEFGHIKLMNPQRSTVWY\", range(20)))\n",
    "    if residue in \"ACDEFGHIKLMNPQRSTVWY\":\n",
    "        return np.eye(20)[mapping[residue]]\n",
    "    else:\n",
    "        return np.zeros(20)\n",
    "def reverseOneHot(encoding):\n",
    "    \"\"\"\n",
    "    Converts one-hot encoded array back to string sequence\n",
    "    \"\"\"\n",
    "    mapping = dict(zip(range(20),\"ACDEFGHIKLMNPQRSTVWY\"))\n",
    "    seq=''\n",
    "    for i in range(len(encoding)):\n",
    "        if np.max(encoding[i])>0:\n",
    "            seq+=mapping[np.argmax(encoding[i])]\n",
    "    return seq\n",
    "\n",
    "def extract_sequences(dataset_X):\n",
    "    \"\"\"\n",
    "    Return DataFrame with MHC, peptide and TCR a/b sequences from\n",
    "    one-hot encoded complex sequences in dataset X\n",
    "    \"\"\"\n",
    "    mhc_sequences = [reverseOneHot(arr[0:179,0:20]) for arr in dataset_X]\n",
    "    pep_sequences = [reverseOneHot(arr[179:190,0:20]) for arr in dataset_X]\n",
    "    tcr_sequences = [reverseOneHot(arr[192:,0:20]) for arr in dataset_X]\n",
    "    df_sequences = pd.DataFrame({\"MHC\":mhc_sequences, \"peptide\":pep_sequences,\n",
    "                                 \"tcr\":tcr_sequences})\n",
    "    return df_sequences"
   ]
  },
  {
   "cell_type": "code",
   "execution_count": 23,
   "metadata": {
    "scrolled": true
   },
   "outputs": [
    {
     "name": "stdout",
     "output_type": "stream",
     "text": [
      "Showing MHC, peptide and TCR alpha/beta sequences for each complex\n"
     ]
    },
    {
     "data": {
      "text/plain": "                                                    MHC    peptide  \\\n0     GSHSMRYFFTSVSRPGRGEPRFIAVGYVDDTQFVRFDSDAASQRME...  GLCTLVAML   \n1     GSHSMRYFFTSVSRPGRGEPRFIAVGYVDDTQFVRFDSDAASQRME...  GILGFVFTL   \n2     GSHSMRYFFTSVSRPGRGEPRFIAVGYVDDTQFVRFDSDAASQRME...  GLCTLVAML   \n3     GSHSMRYFFTSVSRPGRGEPRFIAVGYVDDTQFVRFDSDAASQRME...  GILGFVFTL   \n4     GSHSMRYFFTSVSRPGRGEPRFIAVGYVDDTQFVRFDSDAASQRME...  GILGFVFTL   \n...                                                 ...        ...   \n1527  GSHSMRYFFTSVSRPGRGEPRFIAVGYVDDTQFVRFDSDAASQRME...  NLVPMVATV   \n1528  GSHSMRYFFTSVSRPGRGEPRFIAVGYVDDTQFVRFDSDAASQRME...  NLVPMVATV   \n1529  GSHSMRYFFTSVSRPGRGEPRFIAVGYVDDTQFVRFDSDAASQRME...  GLCTLVAML   \n1530  GSHSMRYFFTSVSRPGRGEPRFIAVGYVDDTQFVRFDSDAASQRME...  GLCTLVAML   \n1531  GSHSMRYFFTSVSRPGRGEPRFIAVGYVDDTQFVRFDSDAASQRME...  GILGFVFTL   \n\n                                                    tcr  \n0     VEQHPSTLSVQEGDSAVIKCTYSDSASNYFPWYKQELGKGPQLIID...  \n1     TQTQPGMFVQEKEAVTLDCTYDTSDPSYGLFWYKQPSSGEMIFLIY...  \n2     QVEQSPQSLIILEGKNCTLQCNYTVSPFSNLRWYKQDTGRGPVSLT...  \n3     QVEQSPPDLILQEGANSTLRCNFSDSVNNLQWFHQNPWGQLINLFY...  \n4     QPSTVASSEGAVVEIFCNHSVSNAYNFFWYLHFPGCAPRLLVKGSK...  \n...                                                 ...  \n1527  EQSPQFLSIQEGENLTVYCNSSSVFSSLQWYRQEPGEGPVLLVTVV...  \n1528  QSVTQLGSHVSVSEGALVLLRCNYSSSVPPYLFWYVQYPNQGLQLL...  \n1529  VQEGEDFTTYCNSSTTLSNIQWYKQRPGGHPVFLIQLVKSGEVKKK...  \n1530  VQEGEDFTTYCNSSTTLSNIQWYKQRPGGHPVFLIQLVKSGEVKKK...  \n1531  QSVTQLGSHVSVSEGALVLLRCNYSSSVPPYLFWYVQYPNQGLQLL...  \n\n[1532 rows x 3 columns]",
      "text/html": "<div>\n<style scoped>\n    .dataframe tbody tr th:only-of-type {\n        vertical-align: middle;\n    }\n\n    .dataframe tbody tr th {\n        vertical-align: top;\n    }\n\n    .dataframe thead th {\n        text-align: right;\n    }\n</style>\n<table border=\"1\" class=\"dataframe\">\n  <thead>\n    <tr style=\"text-align: right;\">\n      <th></th>\n      <th>MHC</th>\n      <th>peptide</th>\n      <th>tcr</th>\n    </tr>\n  </thead>\n  <tbody>\n    <tr>\n      <th>0</th>\n      <td>GSHSMRYFFTSVSRPGRGEPRFIAVGYVDDTQFVRFDSDAASQRME...</td>\n      <td>GLCTLVAML</td>\n      <td>VEQHPSTLSVQEGDSAVIKCTYSDSASNYFPWYKQELGKGPQLIID...</td>\n    </tr>\n    <tr>\n      <th>1</th>\n      <td>GSHSMRYFFTSVSRPGRGEPRFIAVGYVDDTQFVRFDSDAASQRME...</td>\n      <td>GILGFVFTL</td>\n      <td>TQTQPGMFVQEKEAVTLDCTYDTSDPSYGLFWYKQPSSGEMIFLIY...</td>\n    </tr>\n    <tr>\n      <th>2</th>\n      <td>GSHSMRYFFTSVSRPGRGEPRFIAVGYVDDTQFVRFDSDAASQRME...</td>\n      <td>GLCTLVAML</td>\n      <td>QVEQSPQSLIILEGKNCTLQCNYTVSPFSNLRWYKQDTGRGPVSLT...</td>\n    </tr>\n    <tr>\n      <th>3</th>\n      <td>GSHSMRYFFTSVSRPGRGEPRFIAVGYVDDTQFVRFDSDAASQRME...</td>\n      <td>GILGFVFTL</td>\n      <td>QVEQSPPDLILQEGANSTLRCNFSDSVNNLQWFHQNPWGQLINLFY...</td>\n    </tr>\n    <tr>\n      <th>4</th>\n      <td>GSHSMRYFFTSVSRPGRGEPRFIAVGYVDDTQFVRFDSDAASQRME...</td>\n      <td>GILGFVFTL</td>\n      <td>QPSTVASSEGAVVEIFCNHSVSNAYNFFWYLHFPGCAPRLLVKGSK...</td>\n    </tr>\n    <tr>\n      <th>...</th>\n      <td>...</td>\n      <td>...</td>\n      <td>...</td>\n    </tr>\n    <tr>\n      <th>1527</th>\n      <td>GSHSMRYFFTSVSRPGRGEPRFIAVGYVDDTQFVRFDSDAASQRME...</td>\n      <td>NLVPMVATV</td>\n      <td>EQSPQFLSIQEGENLTVYCNSSSVFSSLQWYRQEPGEGPVLLVTVV...</td>\n    </tr>\n    <tr>\n      <th>1528</th>\n      <td>GSHSMRYFFTSVSRPGRGEPRFIAVGYVDDTQFVRFDSDAASQRME...</td>\n      <td>NLVPMVATV</td>\n      <td>QSVTQLGSHVSVSEGALVLLRCNYSSSVPPYLFWYVQYPNQGLQLL...</td>\n    </tr>\n    <tr>\n      <th>1529</th>\n      <td>GSHSMRYFFTSVSRPGRGEPRFIAVGYVDDTQFVRFDSDAASQRME...</td>\n      <td>GLCTLVAML</td>\n      <td>VQEGEDFTTYCNSSTTLSNIQWYKQRPGGHPVFLIQLVKSGEVKKK...</td>\n    </tr>\n    <tr>\n      <th>1530</th>\n      <td>GSHSMRYFFTSVSRPGRGEPRFIAVGYVDDTQFVRFDSDAASQRME...</td>\n      <td>GLCTLVAML</td>\n      <td>VQEGEDFTTYCNSSTTLSNIQWYKQRPGGHPVFLIQLVKSGEVKKK...</td>\n    </tr>\n    <tr>\n      <th>1531</th>\n      <td>GSHSMRYFFTSVSRPGRGEPRFIAVGYVDDTQFVRFDSDAASQRME...</td>\n      <td>GILGFVFTL</td>\n      <td>QSVTQLGSHVSVSEGALVLLRCNYSSSVPPYLFWYVQYPNQGLQLL...</td>\n    </tr>\n  </tbody>\n</table>\n<p>1532 rows × 3 columns</p>\n</div>"
     },
     "execution_count": 23,
     "metadata": {},
     "output_type": "execute_result"
    }
   ],
   "source": [
    "complex_sequences = extract_sequences(X_val)\n",
    "print(\"Showing MHC, peptide and TCR alpha/beta sequences for each complex\")\n",
    "complex_sequences"
   ]
  },
  {
   "cell_type": "code",
   "execution_count": 23,
   "metadata": {},
   "outputs": [],
   "source": []
  },
  {
   "cell_type": "code",
   "execution_count": 23,
   "metadata": {},
   "outputs": [],
   "source": []
  }
 ],
 "metadata": {
  "kernelspec": {
   "display_name": "Python 3",
   "language": "python",
   "name": "python3"
  },
  "language_info": {
   "codemirror_mode": {
    "name": "ipython",
    "version": 3
   },
   "file_extension": ".py",
   "mimetype": "text/x-python",
   "name": "python",
   "nbconvert_exporter": "python",
   "pygments_lexer": "ipython3",
   "version": "3.7.7"
  }
 },
 "nbformat": 4,
 "nbformat_minor": 4
}